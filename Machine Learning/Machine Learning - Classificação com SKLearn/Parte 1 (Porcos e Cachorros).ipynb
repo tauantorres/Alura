{
 "cells": [
  {
   "cell_type": "markdown",
   "id": "ed108728",
   "metadata": {},
   "source": [
    "## Material usado:\n",
    "\n",
    "1. https://pandas.pydata.org/pandas-docs/stable/\n",
    "2. https://seaborn.pydata.org/tutorial/introduction"
   ]
  },
  {
   "cell_type": "markdown",
   "id": "99bdcd41",
   "metadata": {},
   "source": [
    "## Modo simples de modelagem"
   ]
  },
  {
   "cell_type": "code",
   "execution_count": 1,
   "id": "36119e79",
   "metadata": {},
   "outputs": [],
   "source": [
    "# Features: [1] - Sim; [0] - Não;\n",
    "# Pelo longo?\n",
    "# Perna longa?\n",
    "# Faz au-au? \n",
    "\n",
    "porco_1 = [ 0, 1, 0]\n",
    "porco_2 = [ 0, 1, 1]\n",
    "porco_3 = [ 1, 1, 0]\n",
    "\n",
    "cachorro_1 = [ 0, 1, 1]\n",
    "cachorro_2 = [ 1, 0, 1]\n",
    "cachorro_3 = [ 1, 1, 1]"
   ]
  },
  {
   "cell_type": "code",
   "execution_count": 2,
   "id": "ecffc14b",
   "metadata": {},
   "outputs": [],
   "source": [
    "# 1 => Porco\n",
    "# 0 => Cachorro\n",
    "\n",
    "dados = [ porco_1, porco_2, porco_3, cachorro_1, cachorro_2, cachorro_3]\n",
    "classes = [ 1, 1, 1, 0, 0, 0]"
   ]
  },
  {
   "cell_type": "code",
   "execution_count": 3,
   "id": "752f74c0",
   "metadata": {},
   "outputs": [
    {
     "data": {
      "text/plain": [
       "LinearSVC()"
      ]
     },
     "execution_count": 3,
     "metadata": {},
     "output_type": "execute_result"
    }
   ],
   "source": [
    "from sklearn.svm import LinearSVC\n",
    "\n",
    "model = LinearSVC()\n",
    "model.fit(dados, classes)"
   ]
  },
  {
   "cell_type": "code",
   "execution_count": 6,
   "id": "a36a633a",
   "metadata": {},
   "outputs": [
    {
     "data": {
      "text/plain": [
       "array([0])"
      ]
     },
     "execution_count": 6,
     "metadata": {},
     "output_type": "execute_result"
    }
   ],
   "source": [
    "animal_misterioso = [ 1, 1, 1]\n",
    "model.predict([animal_misterioso])"
   ]
  },
  {
   "cell_type": "code",
   "execution_count": 22,
   "id": "90c1b918",
   "metadata": {},
   "outputs": [
    {
     "name": "stdout",
     "output_type": "stream",
     "text": [
      "Previsão do modelo: [0 1 0]\n"
     ]
    }
   ],
   "source": [
    "misterio_1 = [ 1, 1, 1]\n",
    "misterio_2 = [ 1, 1, 0]\n",
    "misterio_3 = [ 0, 1, 1]\n",
    "\n",
    "testes = [ misterio_1, misterio_2, misterio_3]\n",
    "previsoes = model.predict(testes) # Previsão - Array\n",
    "\n",
    "print(f\"Previsão do modelo: {previsoes}\")"
   ]
  },
  {
   "cell_type": "code",
   "execution_count": 23,
   "id": "7e1b82a1",
   "metadata": {},
   "outputs": [
    {
     "name": "stdout",
     "output_type": "stream",
     "text": [
      "Respostas do modelo: [0, 1, 1]\n"
     ]
    }
   ],
   "source": [
    "testes_classes = [ 0, 1, 1] # Respostas - Array\n",
    "print(f\"Respostas do modelo: {testes_classes}\")"
   ]
  },
  {
   "cell_type": "code",
   "execution_count": 21,
   "id": "81b5ce06",
   "metadata": {},
   "outputs": [
    {
     "name": "stdout",
     "output_type": "stream",
     "text": [
      "Relação entre testes e respostas: [ True  True False]\n"
     ]
    }
   ],
   "source": [
    "print(f\"Relação entre testes e respostas: {previsoes == testes_classes}\")"
   ]
  },
  {
   "cell_type": "code",
   "execution_count": 19,
   "id": "063ccc27",
   "metadata": {},
   "outputs": [
    {
     "name": "stdout",
     "output_type": "stream",
     "text": [
      "Respostas corretas: 2\n"
     ]
    }
   ],
   "source": [
    "corretos = (previsoes == testes_classes).sum()\n",
    "print(f\"Respostas corretas: {corretos}\")"
   ]
  },
  {
   "cell_type": "code",
   "execution_count": 20,
   "id": "37bd8adc",
   "metadata": {},
   "outputs": [
    {
     "name": "stdout",
     "output_type": "stream",
     "text": [
      "Total de testes: 3\n"
     ]
    }
   ],
   "source": [
    "total = len(testes)\n",
    "print(f\"Total de testes: {total}\")"
   ]
  },
  {
   "cell_type": "code",
   "execution_count": 24,
   "id": "63bff00e",
   "metadata": {},
   "outputs": [
    {
     "name": "stdout",
     "output_type": "stream",
     "text": [
      "Taxa de acerto do modelo: 66.67%\n"
     ]
    }
   ],
   "source": [
    "print(f\"Taxa de acerto do modelo: {corretos/total:.2%}\")"
   ]
  },
  {
   "cell_type": "code",
   "execution_count": 26,
   "id": "7cc600ec",
   "metadata": {},
   "outputs": [
    {
     "name": "stdout",
     "output_type": "stream",
     "text": [
      "Taxa de acerto: 66.67%\n"
     ]
    }
   ],
   "source": [
    "from sklearn.metrics import accuracy_score\n",
    "\n",
    "                                # (Resposta, Previsoes)\n",
    "taxa_de_acerto = accuracy_score(testes_classes, previsoes)\n",
    "print(f\"Taxa de acerto: {taxa_de_acerto:.2%}\")"
   ]
  },
  {
   "cell_type": "markdown",
   "id": "41c493f9",
   "metadata": {},
   "source": [
    "## Modo correto de modelagem"
   ]
  },
  {
   "cell_type": "code",
   "execution_count": 27,
   "id": "55123ea1",
   "metadata": {},
   "outputs": [],
   "source": [
    "# Features: [1] - Sim; [0] - Não;\n",
    "# Pelo longo?\n",
    "# Perna longa?\n",
    "# Faz au-au? \n",
    "\n",
    "porco_1 = [ 0, 1, 0]\n",
    "porco_2 = [ 0, 1, 1]\n",
    "porco_3 = [ 1, 1, 0]\n",
    "\n",
    "cachorro_1 = [ 0, 1, 1]\n",
    "cachorro_2 = [ 1, 0, 1]\n",
    "cachorro_3 = [ 1, 1, 1]"
   ]
  },
  {
   "cell_type": "code",
   "execution_count": 28,
   "id": "6e307efd",
   "metadata": {},
   "outputs": [],
   "source": [
    "# 1 => Porco\n",
    "# 0 => Cachorro\n",
    "\n",
    "# f(x) = y\n",
    "# f() - Modelo\n",
    "# x - Dados\n",
    "# y - Previsões\n",
    "\n",
    "treino_x = [ porco_1, porco_2, porco_3, cachorro_1, cachorro_2, cachorro_3]\n",
    "treino_y = [ 1, 1, 1, 0, 0, 0]"
   ]
  },
  {
   "cell_type": "code",
   "execution_count": 29,
   "id": "c2c53d71",
   "metadata": {},
   "outputs": [
    {
     "data": {
      "text/plain": [
       "LinearSVC()"
      ]
     },
     "execution_count": 29,
     "metadata": {},
     "output_type": "execute_result"
    }
   ],
   "source": [
    "from sklearn.svm import LinearSVC\n",
    "\n",
    "model = LinearSVC()\n",
    "model.fit(treino_x, treino_y)\n",
    "# Em outras palavras, ( <Os dados com o qual o modelo será treinado>, <O que eles representam>)"
   ]
  },
  {
   "cell_type": "code",
   "execution_count": 31,
   "id": "070c7048",
   "metadata": {},
   "outputs": [],
   "source": [
    "misterio1 = [1,1,1]\n",
    "misterio2 = [1,1,0]\n",
    "misterio3 = [0,1,1]\n",
    "\n",
    "teste_x = [misterio1, misterio2, misterio3]\n",
    "teste_y = [0, 1, 1]\n",
    "\n",
    "previsoes = model.predict(testes)"
   ]
  },
  {
   "cell_type": "code",
   "execution_count": 32,
   "id": "85a00d89",
   "metadata": {},
   "outputs": [
    {
     "name": "stdout",
     "output_type": "stream",
     "text": [
      "Taxa de acerto:  66.67%\n"
     ]
    }
   ],
   "source": [
    "corretos = (previsoes == teste_y).sum()\n",
    "total = len(teste_x)\n",
    "taxa_de_acerto = corretos/total \n",
    "print(f\"Taxa de acerto: {taxa_de_acerto: .2%}\")\n"
   ]
  },
  {
   "cell_type": "code",
   "execution_count": 33,
   "id": "a5708fda",
   "metadata": {},
   "outputs": [
    {
     "name": "stdout",
     "output_type": "stream",
     "text": [
      "Taxa de acerto:  66.67%\n"
     ]
    }
   ],
   "source": [
    "from sklearn.metrics import accuracy_score\n",
    "\n",
    "taxa_de_acerto = accuracy_score(teste_y, previsoes)\n",
    "print(f\"Taxa de acerto: {taxa_de_acerto: .2%}\")\n"
   ]
  },
  {
   "cell_type": "code",
   "execution_count": null,
   "id": "c942cfa7",
   "metadata": {},
   "outputs": [],
   "source": []
  }
 ],
 "metadata": {
  "kernelspec": {
   "display_name": "Python 3 (ipykernel)",
   "language": "python",
   "name": "python3"
  },
  "language_info": {
   "codemirror_mode": {
    "name": "ipython",
    "version": 3
   },
   "file_extension": ".py",
   "mimetype": "text/x-python",
   "name": "python",
   "nbconvert_exporter": "python",
   "pygments_lexer": "ipython3",
   "version": "3.9.12"
  }
 },
 "nbformat": 4,
 "nbformat_minor": 5
}
