{
 "cells": [
  {
   "cell_type": "code",
   "execution_count": 2,
   "id": "75a8bdaa",
   "metadata": {},
   "outputs": [],
   "source": [
    "import tensorflow\n",
    "from tensorflow import keras\n",
    "import matplotlib.pyplot as plt\n",
    "import numpy as np\n",
    "\n",
    "dataset = keras.datasets.fashion_mnist\n",
    "((imagens_treino, identificacoes_treino),(imagens_teste, identificacoes_teste)) = dataset.load_data()"
   ]
  },
  {
   "cell_type": "code",
   "execution_count": 5,
   "id": "2fbea2e8",
   "metadata": {
    "scrolled": true
   },
   "outputs": [
    {
     "data": {
      "text/plain": [
       "(0, 9)"
      ]
     },
     "execution_count": 5,
     "metadata": {},
     "output_type": "execute_result"
    }
   ],
   "source": [
    "identificacoes_treino.min(), identificacoes_treino.max()"
   ]
  },
  {
   "cell_type": "code",
   "execution_count": 6,
   "id": "2cdc497e",
   "metadata": {},
   "outputs": [],
   "source": [
    "qtd_labels = [i for i in range(identificacoes_treino.min(), identificacoes_treino.max()+1)]"
   ]
  },
  {
   "cell_type": "code",
   "execution_count": 7,
   "id": "7db55205",
   "metadata": {},
   "outputs": [
    {
     "data": {
      "text/plain": [
       "10"
      ]
     },
     "execution_count": 7,
     "metadata": {},
     "output_type": "execute_result"
    }
   ],
   "source": [
    "len(qtd_labels)\n"
   ]
  },
  {
   "cell_type": "code",
   "execution_count": 10,
   "id": "6852a9db",
   "metadata": {},
   "outputs": [],
   "source": [
    "nomes_de_classificacoes = ['Camiseta', 'Calça', 'Pullover', \n",
    "                           'Vestido', 'Casaco', 'Sandália', 'Camisa',\n",
    "                           'Tênis', 'Bolsa', 'Bota']"
   ]
  },
  {
   "cell_type": "code",
   "execution_count": 11,
   "id": "6895597e",
   "metadata": {
    "scrolled": false
   },
   "outputs": [
    {
     "name": "stdout",
     "output_type": "stream",
     "text": [
      "Valor máximo: 255.0\n",
      "Valor mínimo: 0.0\n",
      "Diferença: 255.0\n"
     ]
    },
    {
     "data": {
      "image/png": "[encoded data removed]",
      "text/plain": [
       "<Figure size 640x480 with 2 Axes>"
      ]
     },
     "metadata": {},
     "output_type": "display_data"
    }
   ],
   "source": [
    "import matplotlib.pyplot as plt\n",
    "\n",
    "plt.imshow(imagens_treino[0], cmap='binary')\n",
    "plt.title(nomes_de_classificacoes[identificacoes_treino[0]])\n",
    "plt.grid(True)\n",
    "cbar = plt.colorbar()\n",
    "\n",
    "# Obter o valor máximo e mínimo da barra de cores\n",
    "vmax = cbar.vmax\n",
    "vmin = cbar.vmin\n",
    "\n",
    "# Obter a diferença entre o valor máximo e mínimo\n",
    "diferenca = vmax - vmin\n",
    "\n",
    "print(\"Valor máximo:\", vmax)\n",
    "print(\"Valor mínimo:\", vmin)\n",
    "print(\"Diferença:\", diferenca)\n",
    "\n",
    "plt.show()"
   ]
  },
  {
   "cell_type": "code",
   "execution_count": 15,
   "id": "89323066",
   "metadata": {},
   "outputs": [],
   "source": [
    "imagens_treino = imagens_treino/float(diferenca)"
   ]
  },
  {
   "cell_type": "code",
   "execution_count": 17,
   "id": "eb409763",
   "metadata": {},
   "outputs": [
    {
     "name": "stdout",
     "output_type": "stream",
     "text": [
      "Epoch 1/5\n",
      "1500/1500 [==============================] - 4s 2ms/step - loss: 0.5299 - accuracy: 0.8128 - val_loss: 0.4079 - val_accuracy: 0.8516\n",
      "Epoch 2/5\n",
      "1500/1500 [==============================] - 3s 2ms/step - loss: 0.4012 - accuracy: 0.8529 - val_loss: 0.4004 - val_accuracy: 0.8544\n",
      "Epoch 3/5\n",
      "1500/1500 [==============================] - 4s 2ms/step - loss: 0.3622 - accuracy: 0.8662 - val_loss: 0.3492 - val_accuracy: 0.8731\n",
      "Epoch 4/5\n",
      "1500/1500 [==============================] - 4s 2ms/step - loss: 0.3411 - accuracy: 0.8742 - val_loss: 0.3486 - val_accuracy: 0.8733\n",
      "Epoch 5/5\n",
      "1500/1500 [==============================] - 4s 2ms/step - loss: 0.3226 - accuracy: 0.8819 - val_loss: 0.3404 - val_accuracy: 0.8789\n"
     ]
    }
   ],
   "source": [
    "modelo = keras.Sequential([ \n",
    "    keras.layers.Flatten(input_shape=(28, 28)),\n",
    "    keras.layers.Dense(256, activation=tensorflow.nn.relu),\n",
    "    keras.layers.Dropout(0.2),\n",
    "    keras.layers.Dense(10, activation=tensorflow.nn.softmax)\n",
    "])\n",
    "\n",
    "modelo.compile(optimizer='adam', \n",
    "               loss='sparse_categorical_crossentropy',\n",
    "               metrics=['accuracy'])\n",
    "\n",
    "historico = modelo.fit(imagens_treino, \n",
    "                         identificacoes_treino, \n",
    "                         epochs=5, \n",
    "                         validation_split=0.2)"
   ]
  },
  {
   "cell_type": "code",
   "execution_count": 18,
   "id": "8c319473",
   "metadata": {},
   "outputs": [
    {
     "name": "stdout",
     "output_type": "stream",
     "text": [
      "Model: \"sequential\"\n",
      "_________________________________________________________________\n",
      " Layer (type)                Output Shape              Param #   \n",
      "=================================================================\n",
      " flatten (Flatten)           (None, 784)               0         \n",
      "                                                                 \n",
      " dense (Dense)               (None, 256)               200960    \n",
      "                                                                 \n",
      " dropout (Dropout)           (None, 256)               0         \n",
      "                                                                 \n",
      " dense_1 (Dense)             (None, 10)                2570      \n",
      "                                                                 \n",
      "=================================================================\n",
      "Total params: 203,530\n",
      "Trainable params: 203,530\n",
      "Non-trainable params: 0\n",
      "_________________________________________________________________\n"
     ]
    }
   ],
   "source": [
    "modelo.summary()"
   ]
  },
  {
   "cell_type": "markdown",
   "id": "b587d15e",
   "metadata": {},
   "source": [
    "## Algumas informações extras sobre '.summary()':\n",
    "\n",
    "O método `summary()` é usado para imprimir um resumo da arquitetura do modelo, mostrando uma tabela com informações sobre cada camada, o número de parâmetros treináveis e o total de parâmetros do modelo.\n",
    "\n",
    "No exemplo fornecido, ao chamar `modelo.summary()`, você obterá um resumo da arquitetura do modelo definido anteriormente. A saída incluirá as seguintes colunas:\n",
    "\n",
    "- `Layer (type)`: O nome da camada e o tipo de camada (por exemplo, \"flatten\" para a camada `keras.layers.Flatten` ou \"dense\" para a camada `keras.layers.Dense`).\n",
    "\n",
    "- `Output Shape`: A forma da saída de cada camada. Isso indica o número de unidades (neurônios) na camada atual.\n",
    "\n",
    "- `Param #`: O número total de parâmetros da camada. Isso inclui tanto os pesos (weights) quanto os viéses (biases) da camada. Esses parâmetros são ajustados durante o processo de treinamento para que o modelo aprenda a fazer previsões adequadas.\n",
    "\n",
    "- `Trainable`: Indica se a camada é treinável ou não. Em geral, todas as camadas do modelo são treináveis, a menos que você configure uma camada como não treinável.\n",
    "\n",
    "- `Total params`: O número total de parâmetros treináveis no modelo. Isso é a soma dos parâmetros de todas as camadas do modelo.\n",
    "\n",
    "É importante ressaltar que o método `summary()` não recebe nenhum parâmetro adicional. Ele exibe informações sobre todas as camadas do modelo definidas usando a classe `Sequential` do Keras.\n",
    "\n",
    "Ao visualizar o resumo do modelo, você pode verificar o número de unidades em cada camada, o número total de parâmetros treináveis e obter uma ideia geral da arquitetura do modelo. Isso pode ser útil para verificar se a configuração da rede neural está correta e se o número de parâmetros está dentro dos limites desejados.\n",
    "\n",
    "Espero que isso esclareça o uso do método `summary()`. Se você tiver mais dúvidas, fique à vontade para perguntar!"
   ]
  },
  {
   "cell_type": "code",
   "execution_count": null,
   "id": "a58c7129",
   "metadata": {},
   "outputs": [],
   "source": []
  }
 ],
 "metadata": {
  "kernelspec": {
   "display_name": "Python 3 (ipykernel)",
   "language": "python",
   "name": "python3"
  },
  "language_info": {
   "codemirror_mode": {
    "name": "ipython",
    "version": 3
   },
   "file_extension": ".py",
   "mimetype": "text/x-python",
   "name": "python",
   "nbconvert_exporter": "python",
   "pygments_lexer": "ipython3",
   "version": "3.9.13"
  }
 },
 "nbformat": 4,
 "nbformat_minor": 5
}
