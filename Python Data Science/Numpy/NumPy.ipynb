{
 "cells": [
  {
   "cell_type": "code",
   "execution_count": 1,
   "id": "01f9dc98",
   "metadata": {},
   "outputs": [],
   "source": [
    "import numpy as np"
   ]
  },
  {
   "cell_type": "code",
   "execution_count": 81,
   "id": "5fe3ada2",
   "metadata": {},
   "outputs": [
    {
     "data": {
      "text/plain": [
       "(258,)"
      ]
     },
     "execution_count": 81,
     "metadata": {},
     "output_type": "execute_result"
    }
   ],
   "source": [
    "km = np.loadtxt(fname='data/carros-km.txt', dtype=int)\n",
    "#km\n",
    "km.shape"
   ]
  },
  {
   "cell_type": "code",
   "execution_count": 82,
   "id": "95d65d80",
   "metadata": {},
   "outputs": [
    {
     "data": {
      "text/plain": [
       "(258,)"
      ]
     },
     "execution_count": 82,
     "metadata": {},
     "output_type": "execute_result"
    }
   ],
   "source": [
    "anos = np.loadtxt('data/carros-anos.txt', dtype = int)\n",
    "#anos\n",
    "anos.shape"
   ]
  },
  {
   "cell_type": "code",
   "execution_count": 83,
   "id": "999a0168",
   "metadata": {},
   "outputs": [],
   "source": [
    "dados = [ \n",
    "    ['Rodas de liga', 'Travas elétricas', 'Piloto automático', 'Bancos de couro', 'Ar condicionado', 'Sensor de estacionamento', 'Sensor crepuscular', 'Sensor de chuva'],\n",
    "    ['Central multimídia', 'Teto panorâmico', 'Freios ABS', '4 X 4', 'Painel digital', 'Piloto automático', 'Bancos de couro', 'Câmera de estacionamento'],\n",
    "    ['Piloto automático', 'Controle de estabilidade', 'Sensor crepuscular', 'Freios ABS', 'Câmbio automático', 'Bancos de couro', 'Central multimídia', 'Vidros elétricos']\n",
    "]\n",
    "\n",
    "pecas = []\n",
    "\n",
    "for lista in dados:\n",
    "    for item in lista:\n",
    "        pecas.append(item)\n",
    "        \n",
    "#pecas = list(set(pecas))\n",
    "#pecas.sort()\n",
    "#pecas"
   ]
  },
  {
   "cell_type": "code",
   "execution_count": 84,
   "id": "4fe419e4",
   "metadata": {},
   "outputs": [
    {
     "name": "stdout",
     "output_type": "stream",
     "text": [
      "['Freios ABS', 'Câmera de estacionamento', 'Vidros elétricos', 'Central multimídia', 'Bancos de couro', 'Ar condicionado', 'Rodas de liga', 'Sensor de estacionamento', 'Câmbio automático', 'Controle de estabilidade', 'Sensor crepuscular', 'Painel digital', 'Piloto automático', 'Sensor de chuva', '4 X 4', 'Travas elétricas', 'Teto panorâmico']\n"
     ]
    }
   ],
   "source": [
    "dados = [ \n",
    "    ['Rodas de liga', 'Travas elétricas', 'Piloto automático', 'Bancos de couro', 'Ar condicionado', 'Sensor de estacionamento', 'Sensor crepuscular', 'Sensor de chuva'],\n",
    "    ['Central multimídia', 'Teto panorâmico', 'Freios ABS', '4 X 4', 'Painel digital', 'Piloto automático', 'Bancos de couro', 'Câmera de estacionamento'],\n",
    "    ['Piloto automático', 'Controle de estabilidade', 'Sensor crepuscular', 'Freios ABS', 'Câmbio automático', 'Bancos de couro', 'Central multimídia', 'Vidros elétricos']\n",
    "]\n",
    "\n",
    "pecas = []\n",
    "\n",
    "for lista in dados:\n",
    "    for item in lista:\n",
    "        pecas.append(item)\n",
    "        \n",
    "print(list(set(pecas)))"
   ]
  },
  {
   "cell_type": "code",
   "execution_count": 85,
   "id": "c4d6d39c",
   "metadata": {},
   "outputs": [
    {
     "name": "stdout",
     "output_type": "stream",
     "text": [
      "['Freios ABS', 'Câmera de estacionamento', 'Vidros elétricos', 'Central multimídia', 'Bancos de couro', 'Ar condicionado', 'Rodas de liga', 'Sensor de estacionamento', 'Câmbio automático', 'Controle de estabilidade', 'Sensor crepuscular', 'Painel digital', 'Piloto automático', 'Sensor de chuva', '4 X 4', 'Travas elétricas', 'Teto panorâmico']\n"
     ]
    }
   ],
   "source": [
    "dados = [ \n",
    "    ['Rodas de liga', 'Travas elétricas', 'Piloto automático', 'Bancos de couro', 'Ar condicionado', 'Sensor de estacionamento', 'Sensor crepuscular', 'Sensor de chuva'],\n",
    "    ['Central multimídia', 'Teto panorâmico', 'Freios ABS', '4 X 4', 'Painel digital', 'Piloto automático', 'Bancos de couro', 'Câmera de estacionamento'],\n",
    "    ['Piloto automático', 'Controle de estabilidade', 'Sensor crepuscular', 'Freios ABS', 'Câmbio automático', 'Bancos de couro', 'Central multimídia', 'Vidros elétricos']\n",
    "]\n",
    "\n",
    "pecas = list(set([item for lista in dados for item in lista]))\n",
    "print(pecas)"
   ]
  },
  {
   "cell_type": "code",
   "execution_count": 86,
   "id": "8e68985f",
   "metadata": {},
   "outputs": [
    {
     "data": {
      "text/plain": [
       "(3, 8)"
      ]
     },
     "execution_count": 86,
     "metadata": {},
     "output_type": "execute_result"
    }
   ],
   "source": [
    "Acessorios = np.array(dados)\n",
    "Acessorios.shape"
   ]
  },
  {
   "cell_type": "code",
   "execution_count": 87,
   "id": "8c53b98f",
   "metadata": {},
   "outputs": [],
   "source": [
    "np_array = np.arange(1000000)\n",
    "py_list = list(range(1000000))"
   ]
  },
  {
   "cell_type": "code",
   "execution_count": 88,
   "id": "d7f37aca",
   "metadata": {},
   "outputs": [
    {
     "name": "stdout",
     "output_type": "stream",
     "text": [
      "CPU times: total: 62.5 ms\n",
      "Wall time: 59.9 ms\n"
     ]
    }
   ],
   "source": [
    "%time for _ in range(100): np_array *= 2"
   ]
  },
  {
   "cell_type": "code",
   "execution_count": 89,
   "id": "db8bbc27",
   "metadata": {},
   "outputs": [
    {
     "name": "stdout",
     "output_type": "stream",
     "text": [
      "CPU times: total: 10.2 s\n",
      "Wall time: 10.2 s\n"
     ]
    }
   ],
   "source": [
    "%time for _ in range(100): py_list = [x * 2 for x in py_list]"
   ]
  },
  {
   "cell_type": "code",
   "execution_count": 90,
   "id": "e99c9ed1",
   "metadata": {},
   "outputs": [],
   "source": [
    "import numpy as np\n",
    "\n",
    "km = np.loadtxt(fname='data/carros-km.txt', dtype=float)\n",
    "anos = np.loadtxt(fname='data/carros-anos.txt', dtype=int)\n"
   ]
  },
  {
   "cell_type": "code",
   "execution_count": 91,
   "id": "c54366cd",
   "metadata": {},
   "outputs": [
    {
     "data": {
      "image/png": "[encoded data removed]",
      "text/plain": [
       "<Figure size 1080x504 with 1 Axes>"
      ]
     },
     "metadata": {
      "needs_background": "light"
     },
     "output_type": "display_data"
    }
   ],
   "source": [
    "# COM ARRAY\n",
    "import matplotlib.pyplot as plt\n",
    "import datetime\n",
    "\n",
    "ano_atual = datetime.datetime.today().year\n",
    "dados = np.array([km, anos], dtype=object)\n",
    "km_media = dados[0]/(ano_atual - dados[1])\n",
    "\n",
    "fig = plt.figure(figsize = (15, 7))\n",
    "plt.bar(dados[1], dados[0])\n",
    "plt.xticks(np.arange(min(dados[1]), max(dados[1]), step=2))\n",
    "plt.show()"
   ]
  },
  {
   "cell_type": "code",
   "execution_count": 92,
   "id": "07ce3cf9",
   "metadata": {},
   "outputs": [
    {
     "data": {
      "image/png": "[encoded data removed]",
      "text/plain": [
       "<Figure size 1080x360 with 1 Axes>"
      ]
     },
     "metadata": {
      "needs_background": "light"
     },
     "output_type": "display_data"
    }
   ],
   "source": [
    "# SEM ARRAY\n",
    "import matplotlib.pyplot as plt\n",
    "import datetime\n",
    "\n",
    "ano_atual = datetime.datetime.today().year\n",
    "km_media = km/(ano_atual - anos)\n",
    "\n",
    "fig = plt.figure(figsize = (15, 5))\n",
    "plt.bar(anos, km)\n",
    "plt.xticks(np.arange(min(anos), max(anos), step=2))\n",
    "plt.show()"
   ]
  },
  {
   "cell_type": "code",
   "execution_count": 93,
   "id": "b133ba87",
   "metadata": {},
   "outputs": [
    {
     "name": "stdout",
     "output_type": "stream",
     "text": [
      "1990\n",
      "1990\n"
     ]
    }
   ],
   "source": [
    "dados.shape\n",
    "# rows = 2\n",
    "# columns = 258\n",
    "\n",
    "linha = 2\n",
    "coluna = 3\n",
    "\n",
    "index_linha = linha - 1\n",
    "index_coluna = coluna - 1\n",
    "\n",
    "print(dados[index_linha][index_coluna])\n",
    "print(dados[index_linha, index_coluna])"
   ]
  },
  {
   "cell_type": "code",
   "execution_count": 94,
   "id": "e1030cc8",
   "metadata": {},
   "outputs": [
    {
     "name": "stdout",
     "output_type": "stream",
     "text": [
      "Anos: [2003 1991 1990 2019 2006]\n",
      "\n",
      "Tabela (Km/anos): \n",
      "[[44410.0 5712.0 37123.0 0.0 25757.0]\n",
      " [2003 1991 1990 2019 2006]]\n"
     ]
    }
   ],
   "source": [
    "print(f\"Anos: {dados[1][0:5]}\\n\")\n",
    "print(f\"Tabela (Km/anos): \\n{dados[:, 0:5]}\")"
   ]
  },
  {
   "cell_type": "code",
   "execution_count": 95,
   "id": "0b470e54",
   "metadata": {},
   "outputs": [
    {
     "name": "stdout",
     "output_type": "stream",
     "text": [
      "[2003 1991 1990 2019 2006]\n"
     ]
    }
   ],
   "source": [
    "print(dados[:, 0:5][1])"
   ]
  },
  {
   "cell_type": "code",
   "execution_count": 96,
   "id": "eb167ca2",
   "metadata": {},
   "outputs": [
    {
     "name": "stdout",
     "output_type": "stream",
     "text": [
      "<class 'numpy.ndarray'>\n",
      "[0 1 2 3 4 5 6 7 8 9]\n"
     ]
    }
   ],
   "source": [
    "import random\n",
    "\n",
    "contador = np.arange(10)\n",
    "print(type(contador))\n",
    "print(contador)"
   ]
  },
  {
   "cell_type": "code",
   "execution_count": 97,
   "id": "4b12b39b",
   "metadata": {},
   "outputs": [
    {
     "data": {
      "text/plain": [
       "array([0, 3, 6, 9])"
      ]
     },
     "execution_count": 97,
     "metadata": {},
     "output_type": "execute_result"
    }
   ],
   "source": [
    "contador[contador % 3 == 0]"
   ]
  },
  {
   "cell_type": "code",
   "execution_count": 98,
   "id": "808c6e53",
   "metadata": {},
   "outputs": [],
   "source": [
    "dados_pessoas = np.array(\n",
    "    [\n",
    "        ['Roberto', 'casado', 'masculino'],\n",
    "        ['Sheila', 'solteira', 'feminino'],\n",
    "        ['Bruno', 'solteiro', 'masculino'],\n",
    "        ['Rita', 'casada', 'feminino']\n",
    "    ]\n",
    ")"
   ]
  },
  {
   "cell_type": "code",
   "execution_count": 99,
   "id": "f0915740",
   "metadata": {},
   "outputs": [
    {
     "name": "stdout",
     "output_type": "stream",
     "text": [
      "[['Roberto' 'casado' 'masculino']\n",
      " ['Sheila' 'solteira' 'feminino']\n",
      " ['Bruno' 'solteiro' 'masculino']\n",
      " ['Rita' 'casada' 'feminino']]\n"
     ]
    }
   ],
   "source": [
    "print(dados_pessoas)"
   ]
  },
  {
   "cell_type": "code",
   "execution_count": 100,
   "id": "9fe0f9e6",
   "metadata": {},
   "outputs": [
    {
     "data": {
      "text/plain": [
       "(4, 3)"
      ]
     },
     "execution_count": 100,
     "metadata": {},
     "output_type": "execute_result"
    }
   ],
   "source": [
    "dados_pessoas.shape"
   ]
  },
  {
   "cell_type": "code",
   "execution_count": 101,
   "id": "6d616618",
   "metadata": {},
   "outputs": [
    {
     "data": {
      "text/plain": [
       "array([['Roberto', 'casado', 'masculino'],\n",
       "       ['Bruno', 'solteiro', 'masculino']], dtype='<U9')"
      ]
     },
     "execution_count": 101,
     "metadata": {},
     "output_type": "execute_result"
    }
   ],
   "source": [
    "dados_pessoas[::2][:2]"
   ]
  },
  {
   "cell_type": "markdown",
   "id": "bed861c2",
   "metadata": {},
   "source": [
    "# Atributos e Métodos\n",
    "- Reference link?\n",
    "* https://numpy.org/doc/stable/reference/generated/numpy.ndarray.html"
   ]
  },
  {
   "cell_type": "code",
   "execution_count": 114,
   "id": "3a16dd85",
   "metadata": {},
   "outputs": [
    {
     "name": "stdout",
     "output_type": "stream",
     "text": [
      "[[44410.0 5712.0 37123.0 0.0 25757.0]\n",
      " [2003 1991 1990 2019 2006]]\n"
     ]
    }
   ],
   "source": [
    "print(dados[0:2,0:5])"
   ]
  },
  {
   "cell_type": "code",
   "execution_count": 124,
   "id": "9e121958",
   "metadata": {},
   "outputs": [],
   "source": [
    "dados_treinamento = dados[0:2,0:5]"
   ]
  },
  {
   "cell_type": "code",
   "execution_count": 117,
   "id": "871b28ad",
   "metadata": {},
   "outputs": [
    {
     "name": "stdout",
     "output_type": "stream",
     "text": [
      "[[44410.0 5712.0 37123.0 0.0 25757.0]\n",
      " [2003 1991 1990 2019 2006]]\n"
     ]
    }
   ],
   "source": [
    "print(dados_treinamento)"
   ]
  },
  {
   "cell_type": "code",
   "execution_count": 118,
   "id": "27bc753a",
   "metadata": {},
   "outputs": [
    {
     "data": {
      "text/plain": [
       "(2, 5)"
      ]
     },
     "execution_count": 118,
     "metadata": {},
     "output_type": "execute_result"
    }
   ],
   "source": [
    "# ndarray.shape: Retorna ima tupla com as dimensões do array\n",
    "dados_treinamento.shape"
   ]
  },
  {
   "cell_type": "code",
   "execution_count": 119,
   "id": "872105fe",
   "metadata": {},
   "outputs": [
    {
     "data": {
      "text/plain": [
       "2"
      ]
     },
     "execution_count": 119,
     "metadata": {},
     "output_type": "execute_result"
    }
   ],
   "source": [
    "# ndarray.ndim: Retorna o número de dimensões do array.\n",
    "dados_treinamento.ndim"
   ]
  },
  {
   "cell_type": "code",
   "execution_count": 120,
   "id": "4ef07d6d",
   "metadata": {},
   "outputs": [
    {
     "data": {
      "text/plain": [
       "10"
      ]
     },
     "execution_count": 120,
     "metadata": {},
     "output_type": "execute_result"
    }
   ],
   "source": [
    "# ndarray.size: Retorna o número de elementos do array\n",
    "dados_treinamento.size"
   ]
  },
  {
   "cell_type": "code",
   "execution_count": 122,
   "id": "4cc0cc4a",
   "metadata": {},
   "outputs": [
    {
     "data": {
      "text/plain": [
       "dtype('O')"
      ]
     },
     "execution_count": 122,
     "metadata": {},
     "output_type": "execute_result"
    }
   ],
   "source": [
    "# ndarray.type: Retorna o tipo de dado\n",
    "dados_treinamento.dtype"
   ]
  },
  {
   "cell_type": "code",
   "execution_count": 128,
   "id": "c5302365",
   "metadata": {},
   "outputs": [
    {
     "data": {
      "text/plain": [
       "dtype('float64')"
      ]
     },
     "execution_count": 128,
     "metadata": {},
     "output_type": "execute_result"
    }
   ],
   "source": [
    "# ndarray.astype: Changes the type of data inside the array\n",
    "dados_treinamento = dados_treinamento.astype('float64')\n",
    "dados_treinamento.dtype"
   ]
  },
  {
   "cell_type": "code",
   "execution_count": 125,
   "id": "43e74f13",
   "metadata": {},
   "outputs": [
    {
     "data": {
      "text/plain": [
       "array([[44410.0, 2003],\n",
       "       [5712.0, 1991],\n",
       "       [37123.0, 1990],\n",
       "       [0.0, 2019],\n",
       "       [25757.0, 2006]], dtype=object)"
      ]
     },
     "execution_count": 125,
     "metadata": {},
     "output_type": "execute_result"
    }
   ],
   "source": [
    "# ndarray.T: Gera a transposta da matriz\n",
    "dados_treinamento.T"
   ]
  },
  {
   "cell_type": "code",
   "execution_count": 126,
   "id": "4b21404b",
   "metadata": {},
   "outputs": [
    {
     "data": {
      "text/plain": [
       "array([[44410.0, 2003],\n",
       "       [5712.0, 1991],\n",
       "       [37123.0, 1990],\n",
       "       [0.0, 2019],\n",
       "       [25757.0, 2006]], dtype=object)"
      ]
     },
     "execution_count": 126,
     "metadata": {},
     "output_type": "execute_result"
    }
   ],
   "source": [
    "# ndarray.transpose(): Gera a transposta da matriz\n",
    "dados_treinamento.transpose()"
   ]
  },
  {
   "cell_type": "code",
   "execution_count": 129,
   "id": "70e49435",
   "metadata": {},
   "outputs": [
    {
     "data": {
      "text/plain": [
       "[[44410.0, 5712.0, 37123.0, 0.0, 25757.0],\n",
       " [2003.0, 1991.0, 1990.0, 2019.0, 2006.0]]"
      ]
     },
     "execution_count": 129,
     "metadata": {},
     "output_type": "execute_result"
    }
   ],
   "source": [
    "# ndarray.tolist(): Transforma o array em uma lista\n",
    "dados_treinamento.tolist()"
   ]
  },
  {
   "cell_type": "code",
   "execution_count": 132,
   "id": "4d1a0c3b",
   "metadata": {},
   "outputs": [
    {
     "data": {
      "text/plain": [
       "array([0, 1, 2, 3, 4, 5, 6, 7, 8, 9])"
      ]
     },
     "execution_count": 132,
     "metadata": {},
     "output_type": "execute_result"
    }
   ],
   "source": [
    "# ndarray.reshape(): Retorna um array que contém os mesmos dados com uma nova forma\n",
    "contador = np.arange(10)\n",
    "contador"
   ]
  },
  {
   "cell_type": "code",
   "execution_count": 133,
   "id": "7e8bec86",
   "metadata": {},
   "outputs": [
    {
     "data": {
      "text/plain": [
       "array([[0, 1],\n",
       "       [2, 3],\n",
       "       [4, 5],\n",
       "       [6, 7],\n",
       "       [8, 9]])"
      ]
     },
     "execution_count": 133,
     "metadata": {},
     "output_type": "execute_result"
    }
   ],
   "source": [
    "contador.reshape((5, 2))"
   ]
  },
  {
   "cell_type": "code",
   "execution_count": 135,
   "id": "a73087a5",
   "metadata": {},
   "outputs": [
    {
     "data": {
      "text/plain": [
       "array([[0, 1, 2, 3, 4],\n",
       "       [5, 6, 7, 8, 9]])"
      ]
     },
     "execution_count": 135,
     "metadata": {},
     "output_type": "execute_result"
    }
   ],
   "source": [
    "contador.reshape((2, 5))"
   ]
  },
  {
   "cell_type": "code",
   "execution_count": 136,
   "id": "22a8d616",
   "metadata": {},
   "outputs": [
    {
     "data": {
      "text/plain": [
       "array([[0, 1],\n",
       "       [2, 3],\n",
       "       [4, 5],\n",
       "       [6, 7],\n",
       "       [8, 9]])"
      ]
     },
     "execution_count": 136,
     "metadata": {},
     "output_type": "execute_result"
    }
   ],
   "source": [
    "# Usando o padrão da linguagem 'C'\n",
    "contador.reshape((5, 2), order='C')"
   ]
  },
  {
   "cell_type": "code",
   "execution_count": 137,
   "id": "7f7d990d",
   "metadata": {},
   "outputs": [
    {
     "data": {
      "text/plain": [
       "array([[0, 5],\n",
       "       [1, 6],\n",
       "       [2, 7],\n",
       "       [3, 8],\n",
       "       [4, 9]])"
      ]
     },
     "execution_count": 137,
     "metadata": {},
     "output_type": "execute_result"
    }
   ],
   "source": [
    "# Usando o padrão da linguagem 'Fortran'\n",
    "contador.reshape((5, 2), order='F')"
   ]
  },
  {
   "cell_type": "code",
   "execution_count": 138,
   "id": "79b1e0fe",
   "metadata": {},
   "outputs": [],
   "source": [
    "km = [44410.0, 5712.0, 37123.0, 0.0, 25757.0]\n",
    "anos = [2003.0, 1991.0, 1990.0, 2019.0, 2006.0]"
   ]
  },
  {
   "cell_type": "code",
   "execution_count": 139,
   "id": "b9f98edb",
   "metadata": {},
   "outputs": [
    {
     "data": {
      "text/plain": [
       "[44410.0,\n",
       " 5712.0,\n",
       " 37123.0,\n",
       " 0.0,\n",
       " 25757.0,\n",
       " 2003.0,\n",
       " 1991.0,\n",
       " 1990.0,\n",
       " 2019.0,\n",
       " 2006.0]"
      ]
     },
     "execution_count": 139,
     "metadata": {},
     "output_type": "execute_result"
    }
   ],
   "source": [
    "info_carros = km + anos\n",
    "info_carros"
   ]
  },
  {
   "cell_type": "code",
   "execution_count": 141,
   "id": "967bd380",
   "metadata": {},
   "outputs": [
    {
     "data": {
      "text/plain": [
       "array([[44410.,  5712., 37123.,     0., 25757.],\n",
       "       [ 2003.,  1991.,  1990.,  2019.,  2006.]])"
      ]
     },
     "execution_count": 141,
     "metadata": {},
     "output_type": "execute_result"
    }
   ],
   "source": [
    "# Colunas = info_carro\n",
    "# linha 1: km\n",
    "# Linha 2: ano\n",
    "\n",
    "np.array(info_carros).reshape((2, 5))"
   ]
  },
  {
   "cell_type": "code",
   "execution_count": 143,
   "id": "3ba86acf",
   "metadata": {},
   "outputs": [
    {
     "data": {
      "text/plain": [
       "array([[44410.,  2003.],\n",
       "       [ 5712.,  1991.],\n",
       "       [37123.,  1990.],\n",
       "       [    0.,  2019.],\n",
       "       [25757.,  2006.]])"
      ]
     },
     "execution_count": 143,
     "metadata": {},
     "output_type": "execute_result"
    }
   ],
   "source": [
    "# Coluna 1: Km\n",
    "# Coluna 2: ano\n",
    "# Linhas: info_carro\n",
    "\n",
    "np.array(info_carros).reshape((5, 2), order='F')"
   ]
  },
  {
   "cell_type": "code",
   "execution_count": 144,
   "id": "07d1f846",
   "metadata": {},
   "outputs": [
    {
     "data": {
      "text/plain": [
       "array([[44410.,  5712., 37123.,     0., 25757.],\n",
       "       [ 2003.,  1991.,  1990.,  2019.,  2006.]])"
      ]
     },
     "execution_count": 144,
     "metadata": {},
     "output_type": "execute_result"
    }
   ],
   "source": [
    "# ndarray.resize(): Cria mais linhas\n",
    "\n",
    "dados_new = dados_treinamento.copy()\n",
    "dados_new"
   ]
  },
  {
   "cell_type": "code",
   "execution_count": 147,
   "id": "9cd1fbcd",
   "metadata": {},
   "outputs": [
    {
     "data": {
      "text/plain": [
       "array([[44410.,  5712., 37123.,     0., 25757.],\n",
       "       [ 2003.,  1991.,  1990.,  2019.,  2006.],\n",
       "       [    0.,     0.,     0.,     0.,     0.]])"
      ]
     },
     "execution_count": 147,
     "metadata": {},
     "output_type": "execute_result"
    }
   ],
   "source": [
    "dados_new.resize((3, 5), refcheck=False)\n",
    "dados_new"
   ]
  },
  {
   "cell_type": "code",
   "execution_count": 148,
   "id": "e57f3498",
   "metadata": {},
   "outputs": [],
   "source": [
    "import datetime\n",
    "\n",
    "ano_atual = datetime.datetime.today().year\n",
    "dados_new[2] = dados_new[0]/(ano_atual - dados_new[1])\n",
    "\n"
   ]
  },
  {
   "cell_type": "code",
   "execution_count": 149,
   "id": "e47a24a7",
   "metadata": {},
   "outputs": [
    {
     "data": {
      "text/plain": [
       "array([[44410.        ,  5712.        , 37123.        ,     0.        ,\n",
       "        25757.        ],\n",
       "       [ 2003.        ,  1991.        ,  1990.        ,  2019.        ,\n",
       "         2006.        ],\n",
       "       [ 2220.5       ,   178.5       ,  1124.93939394,     0.        ,\n",
       "         1515.11764706]])"
      ]
     },
     "execution_count": 149,
     "metadata": {},
     "output_type": "execute_result"
    }
   ],
   "source": [
    "dados_new"
   ]
  },
  {
   "cell_type": "markdown",
   "id": "e5a9a541",
   "metadata": {},
   "source": [
    "# Statisc with NumPy:\n",
    "\n",
    "Links for research:\n",
    "1. https://numpy.org/doc/1.16/reference/arrays.ndarray.html#calculation <br>\n",
    "2. https://numpy.org/doc/1.16/reference/routines.statistics.html <br>\n",
    "3. https://numpy.org/doc/1.16/reference/routines.math.html <br>\n",
    "4. https://numpy.org/doc/1.16/reference/generated/numpy.column_stack.html<br>"
   ]
  },
  {
   "cell_type": "code",
   "execution_count": 153,
   "id": "d77429c7",
   "metadata": {},
   "outputs": [
    {
     "data": {
      "text/plain": [
       "(258,)"
      ]
     },
     "execution_count": 153,
     "metadata": {},
     "output_type": "execute_result"
    }
   ],
   "source": [
    "import numpy as np\n",
    "\n",
    "anos = np.loadtxt(fname = \"data/carros-anos.txt\", dtype=int)\n",
    "km = np.loadtxt(fname = \"data/carros-km.txt\")\n",
    "valor = np.loadtxt(fname = \"data/carros-valor.txt\")\n"
   ]
  },
  {
   "cell_type": "code",
   "execution_count": 157,
   "id": "12200e99",
   "metadata": {},
   "outputs": [
    {
     "name": "stdout",
     "output_type": "stream",
     "text": [
      "(258, 3)\n"
     ]
    },
    {
     "data": {
      "text/plain": [
       "array([[2.0030000e+03, 4.4410000e+04, 8.8078640e+04],\n",
       "       [1.9910000e+03, 5.7120000e+03, 1.0616194e+05],\n",
       "       [1.9900000e+03, 3.7123000e+04, 7.2832160e+04],\n",
       "       [2.0190000e+03, 0.0000000e+00, 1.2454907e+05],\n",
       "       [2.0060000e+03, 2.5757000e+04, 9.2612100e+04],\n",
       "       [2.0120000e+03, 1.0728000e+04, 9.7497730e+04],\n",
       "       [2.0190000e+03, 0.0000000e+00, 5.6445200e+04],\n",
       "       [2.0090000e+03, 7.7599000e+04, 1.1231044e+05],\n",
       "       [2.0100000e+03, 9.9197000e+04, 1.2071627e+05],\n",
       "       [2.0110000e+03, 3.7978000e+04, 7.6566490e+04],\n",
       "       [2.0020000e+03, 1.2859000e+04, 7.1647590e+04],\n",
       "       [2.0070000e+03, 8.0520000e+03, 7.3919530e+04],\n",
       "       [2.0010000e+03, 8.9773000e+04, 1.1273299e+05],\n",
       "       [2.0190000e+03, 0.0000000e+00, 5.3183380e+04],\n",
       "       [2.0090000e+03, 4.1457000e+04, 1.2748842e+05],\n",
       "       [2.0160000e+03, 1.1560700e+05, 5.9910400e+04],\n",
       "       [2.0120000e+03, 4.6449000e+04, 6.1118590e+04],\n",
       "       [2.0190000e+03, 0.0000000e+00, 8.8552390e+04],\n",
       "       [2.0160000e+03, 3.7086000e+04, 6.2696690e+04],\n",
       "       [2.0170000e+03, 1.5173000e+04, 1.0172630e+05],\n",
       "       [2.0020000e+03, 1.0119300e+05, 1.0614738e+05],\n",
       "       [2.0190000e+03, 0.0000000e+00, 9.4564400e+04],\n",
       "       [1.9940000e+03, 9.8079000e+04, 1.3352984e+05],\n",
       "       [1.9910000e+03, 1.0295900e+05, 1.2568465e+05],\n",
       "       [2.0190000e+03, 0.0000000e+00, 1.2159621e+05],\n",
       "       [2.0190000e+03, 0.0000000e+00, 7.1367100e+04],\n",
       "       [2.0160000e+03, 5.7950000e+03, 9.5347750e+04],\n",
       "       [2.0190000e+03, 0.0000000e+00, 1.0543284e+05],\n",
       "       [2.0020000e+03, 5.8848000e+04, 5.7045270e+04],\n",
       "       [1.9910000e+03, 9.4381000e+04, 1.2043270e+05],\n",
       "       [1.9970000e+03, 3.0163000e+04, 7.0707200e+04],\n",
       "       [1.9950000e+03, 5.3332000e+04, 6.9105180e+04],\n",
       "       [2.0180000e+03, 1.7720000e+04, 5.9358690e+04],\n",
       "       [1.9910000e+03, 3.3808000e+04, 6.5955400e+04],\n",
       "       [2.0140000e+03, 9.0684000e+04, 6.0017030e+04],\n",
       "       [1.9950000e+03, 4.3975000e+04, 1.1890952e+05],\n",
       "       [2.0190000e+03, 0.0000000e+00, 5.1606590e+04],\n",
       "       [2.0190000e+03, 0.0000000e+00, 1.2328187e+05],\n",
       "       [2.0090000e+03, 5.5260000e+03, 6.9770180e+04],\n",
       "       [2.0190000e+03, 0.0000000e+00, 1.0260954e+05],\n",
       "       [2.0130000e+03, 9.3415000e+04, 6.7997190e+04],\n",
       "       [2.0030000e+03, 4.0762000e+04, 1.3523529e+05],\n",
       "       [2.0190000e+03, 0.0000000e+00, 8.6641340e+04],\n",
       "       [2.0020000e+03, 8.6302000e+04, 1.3681839e+05],\n",
       "       [2.0190000e+03, 0.0000000e+00, 1.1762673e+05],\n",
       "       [2.0020000e+03, 9.7550000e+03, 5.6208700e+04],\n",
       "       [2.0040000e+03, 6.9945000e+04, 8.4222650e+04],\n",
       "       [2.0010000e+03, 2.3950000e+03, 9.0781650e+04],\n",
       "       [2.0190000e+03, 0.0000000e+00, 6.4701100e+04],\n",
       "       [2.0030000e+03, 8.0349000e+04, 1.2635049e+05],\n",
       "       [2.0090000e+03, 8.5554000e+04, 1.4815289e+05],\n",
       "       [2.0060000e+03, 5.0496000e+04, 1.3229883e+05],\n",
       "       [2.0000000e+03, 6.7716000e+04, 1.3762763e+05],\n",
       "       [2.0060000e+03, 9.3947000e+04, 8.0422710e+04],\n",
       "       [2.0100000e+03, 3.5345000e+04, 5.6373990e+04],\n",
       "       [1.9940000e+03, 8.1007000e+04, 7.0846030e+04],\n",
       "       [2.0070000e+03, 1.1951300e+05, 1.2869423e+05],\n",
       "       [2.0190000e+03, 0.0000000e+00, 1.3332919e+05],\n",
       "       [2.0190000e+03, 0.0000000e+00, 1.3196143e+05],\n",
       "       [2.0190000e+03, 0.0000000e+00, 1.1203327e+05],\n",
       "       [2.0190000e+03, 0.0000000e+00, 8.1399350e+04],\n",
       "       [2.0190000e+03, 0.0000000e+00, 9.7163100e+04],\n",
       "       [2.0170000e+03, 1.1889500e+05, 6.6007160e+04],\n",
       "       [2.0110000e+03, 4.8509000e+04, 1.2877622e+05],\n",
       "       [2.0010000e+03, 1.0091200e+05, 1.4262302e+05],\n",
       "       [1.9960000e+03, 9.5649000e+04, 1.3693013e+05],\n",
       "       [2.0190000e+03, 0.0000000e+00, 6.6526610e+04],\n",
       "       [1.9940000e+03, 9.0495000e+04, 1.1415487e+05],\n",
       "       [2.0190000e+03, 0.0000000e+00, 1.4239275e+05],\n",
       "       [2.0070000e+03, 2.9132000e+04, 1.4671691e+05],\n",
       "       [1.9940000e+03, 2.3802000e+04, 1.2248568e+05],\n",
       "       [2.0070000e+03, 8.4992000e+04, 9.7951030e+04],\n",
       "       [1.9970000e+03, 5.4395000e+04, 7.8283490e+04],\n",
       "       [2.0060000e+03, 2.6731000e+04, 8.3434040e+04],\n",
       "       [2.0130000e+03, 4.4329000e+04, 7.7836230e+04],\n",
       "       [1.9940000e+03, 1.1823600e+05, 6.0813920e+04],\n",
       "       [2.0080000e+03, 1.1380800e+05, 9.1353860e+04],\n",
       "       [2.0080000e+03, 6.1000000e+02, 1.1628121e+05],\n",
       "       [2.0190000e+03, 0.0000000e+00, 1.4519770e+05],\n",
       "       [2.0190000e+03, 0.0000000e+00, 5.0742100e+04],\n",
       "       [1.9990000e+03, 1.2887000e+04, 7.3033530e+04],\n",
       "       [2.0070000e+03, 7.9607000e+04, 5.4332870e+04],\n",
       "       [1.9930000e+03, 9.0924000e+04, 5.2207450e+04],\n",
       "       [1.9950000e+03, 4.2733000e+04, 6.3578500e+04],\n",
       "       [2.0190000e+03, 0.0000000e+00, 6.4507720e+04],\n",
       "       [2.0190000e+03, 0.0000000e+00, 1.1507559e+05],\n",
       "       [2.0160000e+03, 1.1771400e+05, 1.3303060e+05],\n",
       "       [2.0110000e+03, 1.1388500e+05, 1.4159186e+05],\n",
       "       [2.0190000e+03, 0.0000000e+00, 1.0038028e+05],\n",
       "       [2.0020000e+03, 3.0511000e+04, 9.6369040e+04],\n",
       "       [2.0130000e+03, 7.4867000e+04, 1.4260384e+05],\n",
       "       [2.0170000e+03, 1.1976000e+05, 1.1770967e+05],\n",
       "       [2.0160000e+03, 8.3560000e+03, 1.0224154e+05],\n",
       "       [2.0080000e+03, 6.4247000e+04, 9.6065380e+04],\n",
       "       [2.0180000e+03, 8.8661000e+04, 5.3894610e+04],\n",
       "       [2.0030000e+03, 4.5390000e+03, 1.2391178e+05],\n",
       "       [2.0030000e+03, 1.1011600e+05, 1.0199635e+05],\n",
       "       [2.0040000e+03, 3.3215000e+04, 8.3431660e+04],\n",
       "       [2.0100000e+03, 9.2001000e+04, 1.2297563e+05],\n",
       "       [2.0190000e+03, 0.0000000e+00, 9.3227730e+04],\n",
       "       [2.0060000e+03, 8.1708000e+04, 5.8762650e+04],\n",
       "       [2.0010000e+03, 7.0641000e+04, 1.3954967e+05],\n",
       "       [2.0190000e+03, 0.0000000e+00, 1.2201642e+05],\n",
       "       [2.0150000e+03, 9.1277000e+04, 7.2731980e+04],\n",
       "       [2.0180000e+03, 2.6544000e+04, 8.8416540e+04],\n",
       "       [2.0170000e+03, 5.2596000e+04, 7.3873420e+04],\n",
       "       [1.9920000e+03, 4.7503000e+04, 7.0709340e+04],\n",
       "       [2.0010000e+03, 8.9056000e+04, 1.1530650e+05],\n",
       "       [1.9930000e+03, 2.8834000e+04, 5.5924630e+04],\n",
       "       [1.9950000e+03, 1.1056400e+05, 8.5052260e+04],\n",
       "       [2.0030000e+03, 5.6638000e+04, 5.6646340e+04],\n",
       "       [2.0140000e+03, 1.7357000e+04, 1.3894688e+05],\n",
       "       [2.0080000e+03, 7.4015000e+04, 1.0825672e+05],\n",
       "       [2.0130000e+03, 1.5196000e+04, 5.8979300e+04],\n",
       "       [2.0190000e+03, 0.0000000e+00, 1.1472768e+05],\n",
       "       [2.0170000e+03, 1.0821000e+04, 1.3966148e+05],\n",
       "       [2.0190000e+03, 0.0000000e+00, 8.0382240e+04],\n",
       "       [2.0190000e+03, 0.0000000e+00, 1.4915717e+05],\n",
       "       [2.0060000e+03, 9.5950000e+03, 8.7830410e+04],\n",
       "       [2.0150000e+03, 9.9052000e+04, 1.4356822e+05],\n",
       "       [2.0070000e+03, 5.2389000e+04, 1.3817185e+05],\n",
       "       [2.0050000e+03, 1.1994500e+05, 1.1578495e+05],\n",
       "       [2.0170000e+03, 9.6005000e+04, 1.4650899e+05],\n",
       "       [1.9980000e+03, 3.1639000e+04, 1.3767023e+05],\n",
       "       [2.0190000e+03, 0.0000000e+00, 1.3859727e+05],\n",
       "       [1.9990000e+03, 8.0187000e+04, 1.4762781e+05],\n",
       "       [2.0190000e+03, 0.0000000e+00, 6.2999020e+04],\n",
       "       [2.0090000e+03, 5.8212000e+04, 9.1242440e+04],\n",
       "       [2.0030000e+03, 6.1672000e+04, 1.4948992e+05],\n",
       "       [1.9940000e+03, 3.2017000e+04, 6.3529950e+04],\n",
       "       [2.0190000e+03, 0.0000000e+00, 5.8525410e+04],\n",
       "       [1.9940000e+03, 5.6944000e+04, 9.0345050e+04],\n",
       "       [2.0190000e+03, 0.0000000e+00, 1.4777087e+05],\n",
       "       [2.0150000e+03, 8.6519000e+04, 1.0661771e+05],\n",
       "       [1.9960000e+03, 4.8210000e+03, 1.0492988e+05],\n",
       "       [1.9970000e+03, 1.0102500e+05, 1.0071245e+05],\n",
       "       [1.9930000e+03, 3.0705000e+04, 1.4198293e+05],\n",
       "       [2.0190000e+03, 0.0000000e+00, 1.0403879e+05],\n",
       "       [1.9920000e+03, 3.2555000e+04, 8.8501540e+04],\n",
       "       [1.9950000e+03, 1.0338900e+05, 7.9782020e+04],\n",
       "       [2.0190000e+03, 0.0000000e+00, 8.6224100e+04],\n",
       "       [1.9900000e+03, 5.5289000e+04, 1.0359618e+05],\n",
       "       [2.0190000e+03, 0.0000000e+00, 1.4899647e+05],\n",
       "       [2.0190000e+03, 0.0000000e+00, 6.0948010e+04],\n",
       "       [1.9910000e+03, 1.1593000e+05, 6.9535440e+04],\n",
       "       [1.9900000e+03, 6.6437000e+04, 1.1113033e+05],\n",
       "       [2.0120000e+03, 9.6800000e+04, 6.5847690e+04],\n",
       "       [2.0070000e+03, 1.4237000e+04, 7.8096060e+04],\n",
       "       [2.0130000e+03, 1.9896000e+04, 6.9219890e+04],\n",
       "       [2.0000000e+03, 1.1304500e+05, 1.4411891e+05],\n",
       "       [2.0020000e+03, 1.1494200e+05, 7.7397050e+04],\n",
       "       [1.9960000e+03, 3.1730000e+03, 6.8974250e+04],\n",
       "       [1.9960000e+03, 8.3611000e+04, 1.2523130e+05],\n",
       "       [2.0150000e+03, 2.5356000e+04, 8.5501120e+04],\n",
       "       [1.9930000e+03, 8.8634000e+04, 1.3711621e+05],\n",
       "       [2.0130000e+03, 2.3140000e+03, 1.3882381e+05],\n",
       "       [2.0130000e+03, 2.6270000e+03, 1.1796195e+05],\n",
       "       [2.0090000e+03, 5.2034000e+04, 1.3266232e+05],\n",
       "       [2.0190000e+03, 0.0000000e+00, 1.4640579e+05],\n",
       "       [2.0190000e+03, 0.0000000e+00, 8.1999210e+04],\n",
       "       [2.0020000e+03, 7.9577000e+04, 1.4093460e+05],\n",
       "       [1.9970000e+03, 1.0820100e+05, 8.2366810e+04],\n",
       "       [1.9980000e+03, 7.6453000e+04, 7.0424110e+04],\n",
       "       [2.0040000e+03, 5.7683000e+04, 5.3620310e+04],\n",
       "       [1.9960000e+03, 9.6610000e+04, 7.3389180e+04],\n",
       "       [2.0150000e+03, 1.0900100e+05, 1.1161812e+05],\n",
       "       [2.0160000e+03, 2.6212000e+04, 1.1218737e+05],\n",
       "       [2.0050000e+03, 4.5971000e+04, 1.2081257e+05],\n",
       "       [1.9990000e+03, 4.9182000e+04, 1.1603104e+05],\n",
       "       [1.9950000e+03, 4.9907000e+04, 1.2539811e+05],\n",
       "       [1.9930000e+03, 3.8620000e+04, 7.6101470e+04],\n",
       "       [2.0040000e+03, 6.0996000e+04, 7.5263240e+04],\n",
       "       [2.0130000e+03, 7.3914000e+04, 1.4738776e+05],\n",
       "       [1.9980000e+03, 1.0739200e+05, 8.5311400e+04],\n",
       "       [2.0180000e+03, 9.1460000e+03, 5.4388110e+04],\n",
       "       [2.0190000e+03, 0.0000000e+00, 1.2415665e+05],\n",
       "       [2.0180000e+03, 1.7924000e+04, 1.4620334e+05],\n",
       "       [2.0190000e+03, 0.0000000e+00, 5.6453940e+04],\n",
       "       [1.9900000e+03, 1.1694900e+05, 6.8873790e+04],\n",
       "       [2.0090000e+03, 2.0476000e+04, 9.1667610e+04],\n",
       "       [1.9900000e+03, 5.2804000e+04, 9.3776520e+04],\n",
       "       [2.0060000e+03, 8.8490000e+03, 6.6433820e+04],\n",
       "       [2.0020000e+03, 9.1724000e+04, 1.0905927e+05],\n",
       "       [1.9910000e+03, 3.2056000e+04, 1.2206997e+05],\n",
       "       [1.9920000e+03, 7.4886000e+04, 1.1309032e+05],\n",
       "       [2.0190000e+03, 0.0000000e+00, 8.9401100e+04],\n",
       "       [2.0190000e+03, 0.0000000e+00, 5.6842790e+04],\n",
       "       [2.0050000e+03, 5.2189000e+04, 1.4667671e+05],\n",
       "       [2.0100000e+03, 8.3559000e+04, 8.9511960e+04],\n",
       "       [2.0190000e+03, 0.0000000e+00, 9.7290180e+04],\n",
       "       [2.0160000e+03, 2.0328000e+04, 1.2067356e+05],\n",
       "       [2.0190000e+03, 0.0000000e+00, 1.1443494e+05],\n",
       "       [2.0100000e+03, 7.5577000e+04, 1.3954669e+05],\n",
       "       [1.9940000e+03, 3.3659000e+04, 9.5078160e+04],\n",
       "       [2.0010000e+03, 1.0434100e+05, 6.8091770e+04],\n",
       "       [2.0140000e+03, 2.5510000e+04, 6.1496970e+04],\n",
       "       [1.9960000e+03, 1.8965000e+04, 1.3966930e+05],\n",
       "       [1.9930000e+03, 8.7161000e+04, 8.0661390e+04],\n",
       "       [1.9930000e+03, 6.6520000e+03, 6.1783650e+04],\n",
       "       [2.0010000e+03, 5.5738000e+04, 5.2805910e+04],\n",
       "       [2.0190000e+03, 0.0000000e+00, 1.2702475e+05],\n",
       "       [2.0190000e+03, 0.0000000e+00, 1.3554300e+05],\n",
       "       [2.0190000e+03, 0.0000000e+00, 1.2170873e+05],\n",
       "       [2.0070000e+03, 6.4320000e+04, 1.0734268e+05],\n",
       "       [2.0190000e+03, 0.0000000e+00, 5.7888100e+04],\n",
       "       [2.0160000e+03, 6.8678000e+04, 1.1816148e+05],\n",
       "       [2.0140000e+03, 7.1697000e+04, 1.4249906e+05],\n",
       "       [2.0190000e+03, 0.0000000e+00, 1.2839611e+05],\n",
       "       [2.0150000e+03, 3.4783000e+04, 1.1235061e+05],\n",
       "       [2.0150000e+03, 3.3772000e+04, 1.2466138e+05],\n",
       "       [1.9960000e+03, 8.5127000e+04, 5.4263160e+04],\n",
       "       [2.0020000e+03, 1.3606000e+04, 6.2041320e+04],\n",
       "       [2.0050000e+03, 3.5647000e+04, 1.2929611e+05],\n",
       "       [1.9950000e+03, 9.5128000e+04, 6.0998330e+04],\n",
       "       [1.9990000e+03, 1.4046000e+04, 5.8008500e+04],\n",
       "       [2.0050000e+03, 4.1194000e+04, 8.2304190e+04],\n",
       "       [2.0190000e+03, 0.0000000e+00, 1.1453174e+05],\n",
       "       [1.9970000e+03, 9.6100000e+04, 1.2856561e+05],\n",
       "       [1.9900000e+03, 1.0390000e+05, 1.2648826e+05],\n",
       "       [2.0010000e+03, 4.3814000e+04, 1.1907455e+05],\n",
       "       [2.0130000e+03, 2.4638000e+04, 1.3023804e+05],\n",
       "       [2.0190000e+03, 0.0000000e+00, 1.1576017e+05],\n",
       "       [2.0170000e+03, 1.1096600e+05, 1.2124800e+05],\n",
       "       [2.0110000e+03, 1.5987000e+04, 9.8156350e+04],\n",
       "       [2.0050000e+03, 5.3369000e+04, 1.1214680e+05],\n",
       "       [2.0070000e+03, 1.0077000e+04, 1.0272963e+05],\n",
       "       [1.9930000e+03, 7.1544000e+04, 1.4108335e+05],\n",
       "       [1.9910000e+03, 1.0700000e+02, 1.0296876e+05],\n",
       "       [1.9910000e+03, 8.3940000e+03, 7.6310010e+04],\n",
       "       [1.9970000e+03, 4.1498000e+04, 1.2048174e+05],\n",
       "       [2.0000000e+03, 1.1600200e+05, 5.4559180e+04],\n",
       "       [2.0070000e+03, 1.0085800e+05, 9.2957640e+04],\n",
       "       [2.0060000e+03, 6.7475000e+04, 1.2781006e+05],\n",
       "       [2.0150000e+03, 8.4970000e+03, 7.3311750e+04],\n",
       "       [2.0080000e+03, 4.4200000e+03, 6.5138030e+04],\n",
       "       [2.0190000e+03, 0.0000000e+00, 9.0141470e+04],\n",
       "       [1.9960000e+03, 5.8537000e+04, 7.1160360e+04],\n",
       "       [2.0190000e+03, 0.0000000e+00, 6.7539790e+04],\n",
       "       [2.0190000e+03, 0.0000000e+00, 6.7664860e+04],\n",
       "       [2.0140000e+03, 1.1201600e+05, 6.8652160e+04],\n",
       "       [2.0040000e+03, 9.1840000e+04, 1.1472874e+05],\n",
       "       [2.0080000e+03, 1.1278700e+05, 1.4164508e+05],\n",
       "       [2.0190000e+03, 0.0000000e+00, 1.2624784e+05],\n",
       "       [2.0190000e+03, 0.0000000e+00, 1.2885221e+05],\n",
       "       [2.0120000e+03, 9.2930000e+03, 1.3238476e+05],\n",
       "       [2.0190000e+03, 0.0000000e+00, 1.2941533e+05],\n",
       "       [1.9960000e+03, 5.5083000e+04, 8.9536820e+04],\n",
       "       [2.0110000e+03, 4.8796000e+04, 8.7975300e+04],\n",
       "       [2.0190000e+03, 0.0000000e+00, 7.7675790e+04],\n",
       "       [2.0100000e+03, 8.9685000e+04, 5.8881670e+04],\n",
       "       [2.0070000e+03, 8.5384000e+04, 5.5081990e+04],\n",
       "       [1.9940000e+03, 9.8108000e+04, 1.1882644e+05],\n",
       "       [2.0070000e+03, 7.1280000e+04, 1.3762762e+05],\n",
       "       [2.0140000e+03, 2.7505000e+04, 5.1759580e+04],\n",
       "       [1.9910000e+03, 2.9981000e+04, 5.1667060e+04],\n",
       "       [2.0020000e+03, 5.2637000e+04, 6.8934030e+04],\n",
       "       [1.9960000e+03, 7.6850000e+03, 1.2211090e+05],\n",
       "       [1.9920000e+03, 5.0188000e+04, 9.0381470e+04]])"
      ]
     },
     "execution_count": 157,
     "metadata": {},
     "output_type": "execute_result"
    }
   ],
   "source": [
    "# np.column_stack((Column_1, Columns_2, ...))\n",
    "\n",
    "dataset = np.column_stack((anos, km, valor))\n",
    "print(dataset.shape)\n",
    "dataset"
   ]
  },
  {
   "cell_type": "markdown",
   "id": "0715f09c",
   "metadata": {},
   "source": [
    "# Como calcular a média"
   ]
  },
  {
   "cell_type": "code",
   "execution_count": 158,
   "id": "09206908",
   "metadata": {},
   "outputs": [
    {
     "data": {
      "text/plain": [
       "48489.14648578811"
      ]
     },
     "execution_count": 158,
     "metadata": {},
     "output_type": "execute_result"
    }
   ],
   "source": [
    "# Fez a média de todas as linhas e colunas\n",
    "np.mean(dataset)\n"
   ]
  },
  {
   "cell_type": "code",
   "execution_count": 159,
   "id": "71c9f604",
   "metadata": {},
   "outputs": [
    {
     "data": {
      "text/plain": [
       "array([ 2007.51162791, 44499.41472868, 98960.51310078])"
      ]
     },
     "execution_count": 159,
     "metadata": {},
     "output_type": "execute_result"
    }
   ],
   "source": [
    "# Parameter: axis: Realiza a média das colunas\n",
    "np.mean(dataset, axis = 0)"
   ]
  },
  {
   "cell_type": "code",
   "execution_count": 162,
   "id": "f2fd252c",
   "metadata": {},
   "outputs": [
    {
     "data": {
      "text/plain": [
       "44499.41472868217"
      ]
     },
     "execution_count": 162,
     "metadata": {},
     "output_type": "execute_result"
    }
   ],
   "source": [
    "# Se eu quiser só a média da Km\n",
    "# Ou seja, coluna 2 (index = 1)\n",
    "\n",
    "np.mean(dataset[:, 1])"
   ]
  },
  {
   "cell_type": "code",
   "execution_count": 163,
   "id": "5f10ca1b",
   "metadata": {},
   "outputs": [
    {
     "data": {
      "text/plain": [
       "98960.51310077519"
      ]
     },
     "execution_count": 163,
     "metadata": {},
     "output_type": "execute_result"
    }
   ],
   "source": [
    "np.mean(dataset[:, 2])"
   ]
  },
  {
   "cell_type": "code",
   "execution_count": 165,
   "id": "ea52432a",
   "metadata": {},
   "outputs": [
    {
     "data": {
      "text/plain": [
       "array([44499.41472868, 98960.51310078])"
      ]
     },
     "execution_count": 165,
     "metadata": {},
     "output_type": "execute_result"
    }
   ],
   "source": [
    "# array[linhas, colunas] = array[linhas][colunas]\n",
    "np.mean(dataset[:, 1:], axis = 0)"
   ]
  },
  {
   "cell_type": "markdown",
   "id": "e2688fb0",
   "metadata": {},
   "source": [
    "# Como calcular o desvio padrão"
   ]
  },
  {
   "cell_type": "code",
   "execution_count": 174,
   "id": "f536cebf",
   "metadata": {},
   "outputs": [
    {
     "name": "stdout",
     "output_type": "stream",
     "text": [
      "39859.82699005149\n",
      "29754.101150388564\n",
      "[39859.82699005 29754.10115039]\n"
     ]
    }
   ],
   "source": [
    "# np.std(): Retorna o desvio padrão\n",
    "\n",
    "\n",
    "print(np.std(dataset[:, 1])) # Coluna 1\n",
    "print(np.std(dataset[:, 2])) # Coluna 2\n",
    "print(np.std(dataset[:, 1:], axis = 0)) # Coluna 1 e 2"
   ]
  },
  {
   "cell_type": "markdown",
   "id": "af43c0b7",
   "metadata": {},
   "source": [
    "# Como realizar uma soma"
   ]
  },
  {
   "cell_type": "code",
   "execution_count": 175,
   "id": "8fcbc3eb",
   "metadata": {},
   "outputs": [
    {
     "data": {
      "text/plain": [
       "array([  517938.        , 11480849.        , 25531812.37999999])"
      ]
     },
     "execution_count": 175,
     "metadata": {},
     "output_type": "execute_result"
    }
   ],
   "source": [
    "dataset.sum(axis = 0)"
   ]
  },
  {
   "cell_type": "code",
   "execution_count": 178,
   "id": "45673cc3",
   "metadata": {},
   "outputs": [
    {
     "name": "stdout",
     "output_type": "stream",
     "text": [
      "11480849.0\n",
      "25531812.38\n"
     ]
    }
   ],
   "source": [
    "print(dataset[:, 1].sum())\n",
    "print(dataset[:, 2].sum())"
   ]
  },
  {
   "cell_type": "code",
   "execution_count": 179,
   "id": "f427c2e1",
   "metadata": {},
   "outputs": [
    {
     "data": {
      "text/plain": [
       "array([  517938.        , 11480849.        , 25531812.37999999])"
      ]
     },
     "execution_count": 179,
     "metadata": {},
     "output_type": "execute_result"
    }
   ],
   "source": [
    "np.sum(dataset, axis=0)"
   ]
  },
  {
   "cell_type": "code",
   "execution_count": 180,
   "id": "3b659805",
   "metadata": {},
   "outputs": [
    {
     "data": {
      "text/plain": [
       "array([11480849.        , 25531812.37999999])"
      ]
     },
     "execution_count": 180,
     "metadata": {},
     "output_type": "execute_result"
    }
   ],
   "source": [
    "np.sum(dataset[:, 1:], axis=0)"
   ]
  },
  {
   "cell_type": "code",
   "execution_count": null,
   "id": "d48ebb27",
   "metadata": {},
   "outputs": [],
   "source": []
  }
 ],
 "metadata": {
  "kernelspec": {
   "display_name": "Python 3 (ipykernel)",
   "language": "python",
   "name": "python3"
  },
  "language_info": {
   "codemirror_mode": {
    "name": "ipython",
    "version": 3
   },
   "file_extension": ".py",
   "mimetype": "text/x-python",
   "name": "python",
   "nbconvert_exporter": "python",
   "pygments_lexer": "ipython3",
   "version": "3.9.13"
  }
 },
 "nbformat": 4,
 "nbformat_minor": 5
}
